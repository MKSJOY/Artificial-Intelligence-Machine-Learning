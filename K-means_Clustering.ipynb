import numpy as np
import matplotlib.pyplot as plt
from sklearn.datasets import make_blobs
dataset = make_blobs(n_samples=100, n_features=2, centers=2, cluster_std=1.6, center_box=(0, 100))
print(dataset)
data = dataset[0]
print(data)
from sklearn.cluster import KMeans
kmean=KMeans(n_clusters=4)
kmean.fit(data)
plt.scatter(dataset[0] [:,0], dataset[0] [:,1], dataset[0] [:,2], dataset[0] [:,3])
clusters = kmean.cluster_centers_
print(clusters)
distance = kmean.fit_predict(data)
plt.scatter(data[distance==0, 0], data[distance==0, 1], s=50, color= 'red')
plt.scatter(data[distance==1, 0], data[distance==1, 1], s=50, color= 'blue')
plt.scatter(clusters[0, 0], clusters[0, 1], marker ='+', s=300, color= 'green')
plt.scatter(clusters[1, 0], clusters[1, 1], marker ='+', s=300, color= 'black')
plt.show()