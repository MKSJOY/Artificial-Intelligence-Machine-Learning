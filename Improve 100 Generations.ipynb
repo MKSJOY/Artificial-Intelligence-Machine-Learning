{
  "nbformat": 4,
  "nbformat_minor": 0,
  "metadata": {
    "colab": {
      "provenance": []
    },
    "kernelspec": {
      "name": "python3",
      "display_name": "Python 3"
    },
    "language_info": {
      "name": "python"
    }
  },
  "cells": [
    {
      "cell_type": "code",
      "execution_count": null,
      "metadata": {
        "id": "aaQVoagyNwJG"
      },
      "outputs": [],
      "source": [
        "import random"
      ]
    },
    {
      "cell_type": "code",
      "source": [
        "population_size = 5\n",
        "num_generations = 100\n",
        "mutation_rate = 0.1\n"
      ],
      "metadata": {
        "id": "FXGqedJhN08I"
      },
      "execution_count": null,
      "outputs": []
    },
    {
      "cell_type": "code",
      "source": [
        "def fitness_function(x):\n",
        "    return x*x\n"
      ],
      "metadata": {
        "id": "o0tVCahLN8Cb"
      },
      "execution_count": null,
      "outputs": []
    },
    {
      "cell_type": "code",
      "source": [
        "population = [random.randrange(31) for _ in range(population_size)]\n",
        "print(population)"
      ],
      "metadata": {
        "colab": {
          "base_uri": "https://localhost:8080/"
        },
        "id": "5yXsinacN_Jk",
        "outputId": "6fbe628d-bc34-4203-855f-9ec2ea520a19"
      },
      "execution_count": null,
      "outputs": [
        {
          "output_type": "stream",
          "name": "stdout",
          "text": [
            "[30, 25, 11, 14, 30]\n"
          ]
        }
      ]
    },
    {
      "cell_type": "code",
      "source": [
        "def convertBinary(num):\n",
        "    res = [int(i) for i in list('{0:05b}'.format(num))]\n",
        "    print(\"The converted binary list is : \" + str(res))\n",
        "    return res"
      ],
      "metadata": {
        "id": "6-zCR_ctuq6K"
      },
      "execution_count": null,
      "outputs": []
    },
    {
      "cell_type": "code",
      "source": [
        "res_list = []\n",
        "for i in range(len(population)):\n",
        "    res_list.append(convertBinary(population[i]))"
      ],
      "metadata": {
        "colab": {
          "base_uri": "https://localhost:8080/"
        },
        "id": "5cz0BWsFuwpI",
        "outputId": "68f196f6-f265-4e2f-a61b-aacce5c7c69d"
      },
      "execution_count": null,
      "outputs": [
        {
          "output_type": "stream",
          "name": "stdout",
          "text": [
            "The converted binary list is : [1, 1, 1, 1, 0]\n",
            "The converted binary list is : [1, 1, 0, 0, 1]\n",
            "The converted binary list is : [0, 1, 0, 1, 1]\n",
            "The converted binary list is : [0, 1, 1, 1, 0]\n",
            "The converted binary list is : [1, 1, 1, 1, 0]\n"
          ]
        }
      ]
    },
    {
      "cell_type": "code",
      "source": [
        "def evaluate_population(population):\n",
        "    return [fitness_function(individual) for individual in population]"
      ],
      "metadata": {
        "id": "rChHp0f0u7NG"
      },
      "execution_count": null,
      "outputs": []
    },
    {
      "cell_type": "code",
      "source": [
        "def evaluate_population(population):\n",
        "    return [fitness_function(individual) for individual in population]"
      ],
      "metadata": {
        "id": "u6cOhuETu9eB"
      },
      "execution_count": null,
      "outputs": []
    },
    {
      "cell_type": "code",
      "source": [
        "scores = evaluate_population(population)\n",
        "print(scores)"
      ],
      "metadata": {
        "colab": {
          "base_uri": "https://localhost:8080/"
        },
        "id": "MPT_az114HyK",
        "outputId": "a9da659c-b27d-4b19-9009-40d1f3244b43"
      },
      "execution_count": null,
      "outputs": [
        {
          "output_type": "stream",
          "name": "stdout",
          "text": [
            "[900, 625, 121, 196, 900]\n"
          ]
        }
      ]
    },
    {
      "cell_type": "code",
      "source": [
        "def select_parents(population, scores):\n",
        "    population_fitness = sum(scores)\n",
        "    chromosome_probabilities = [scores[i] / population_fitness for i in range(len(scores))]\n",
        "    parent_indices = random.choices(range(len(population)), weights=chromosome_probabilities, k=2)  # Corrected line\n",
        "    return parent_indices\n",
        "\n",
        "parents = select_parents(population, scores)\n",
        "print(parents)\n",
        "\n",
        "c = []"
      ],
      "metadata": {
        "colab": {
          "base_uri": "https://localhost:8080/"
        },
        "id": "hkhVTpaDvMQV",
        "outputId": "a663da44-4901-4eaa-99ae-7018ca373ae5"
      },
      "execution_count": null,
      "outputs": [
        {
          "output_type": "stream",
          "name": "stdout",
          "text": [
            "[0, 2]\n"
          ]
        }
      ]
    },
    {
      "cell_type": "code",
      "source": [
        "def crossover(res_list, parent_indices):\n",
        "    one = parent_indices[0]\n",
        "    two = parent_indices[1]\n",
        "\n",
        "    point = random.randrange(0, len(res_list[0]))\n",
        "    child1 = res_list[one][:point] + res_list[two][point:]\n",
        "    child2 = res_list[two][:point] + res_list[one][point:]\n",
        "\n",
        "    print(child1)\n",
        "    print(child2)\n",
        "\n",
        "    c.append(child1)\n",
        "    c.append(child2)\n",
        "\n",
        "\n",
        "parent_indices = parents\n",
        "crossover(res_list, parent_indices)\n",
        "\n",
        "print(res_list)\n"
      ],
      "metadata": {
        "colab": {
          "base_uri": "https://localhost:8080/"
        },
        "id": "aJ8Gb8qhvS3v",
        "outputId": "7ce83428-ed48-4d75-d8d2-f6da10ef6e6f"
      },
      "execution_count": null,
      "outputs": [
        {
          "output_type": "stream",
          "name": "stdout",
          "text": [
            "[0, 1, 0, 1, 1]\n",
            "[1, 1, 1, 1, 0]\n",
            "[[1, 1, 1, 1, 0], [1, 1, 0, 0, 1], [0, 1, 0, 1, 1], [0, 1, 1, 1, 0], [1, 1, 1, 1, 0]]\n"
          ]
        }
      ]
    },
    {
      "cell_type": "code",
      "source": [
        "def mutate(child, mutation_rate):\n",
        "    mutated_child = []\n",
        "    for bit in child:\n",
        "        if random.random() < mutation_rate:\n",
        "            mutated_bit = 1 - bit  # Flipping the bit\n",
        "        else:\n",
        "            mutated_bit = bit\n",
        "        mutated_child.append(mutated_bit)\n",
        "    return mutated_child\n",
        "\n",
        "c[0] = mutate(c[0], mutation_rate)  # Corrected line\n",
        "c[1] = mutate(c[1], mutation_rate)  # Corrected line\n",
        "\n",
        "for i in range(len(c)):\n",
        "    print(c[i])\n",
        "\n",
        "decimalValue = []"
      ],
      "metadata": {
        "colab": {
          "base_uri": "https://localhost:8080/"
        },
        "id": "5dbKsj78ODfy",
        "outputId": "39c78971-e277-4a2d-9389-2c44568fa8cc"
      },
      "execution_count": null,
      "outputs": [
        {
          "output_type": "stream",
          "name": "stdout",
          "text": [
            "[0, 1, 0, 1, 1]\n",
            "[1, 1, 1, 1, 0]\n"
          ]
        }
      ]
    },
    {
      "cell_type": "code",
      "source": [
        "def fitnessEvaluationOffSpring(binary):\n",
        "    decimal = 0\n",
        "    for digit in binary:\n",
        "        decimal = (decimal << 1) | int(digit)\n",
        "    decimalValue.append(decimal)\n",
        "\n",
        "for i in range(len(c)):\n",
        "    fitnessEvaluationOffSpring(c[i])\n",
        "print(decimalValue)\n",
        "\n",
        "OffspringScores = evaluate_population(decimalValue)\n",
        "print(OffspringScores)"
      ],
      "metadata": {
        "colab": {
          "base_uri": "https://localhost:8080/"
        },
        "id": "37rkcV-b4omi",
        "outputId": "8465a9de-7ad2-427b-9ee0-88c9840abec7"
      },
      "execution_count": null,
      "outputs": [
        {
          "output_type": "stream",
          "name": "stdout",
          "text": [
            "[11, 30]\n",
            "[121, 900]\n"
          ]
        }
      ]
    },
    {
      "cell_type": "code",
      "source": [
        "def replacement():\n",
        "    global res_list\n",
        "    print(\"parents:\", parents)\n",
        "    print(\"OffspringScores:\", OffspringScores)\n",
        "    print(\"scores:\", scores)\n",
        "    print(\"\\n\")\n",
        "\n",
        "    if OffspringScores[0] > scores[parents[0]]:\n",
        "        res_list.pop(parents[0])\n",
        "        res_list.insert(parents[0], c[0])\n",
        "    if OffspringScores[1] > scores[parents[1]]:\n",
        "        res_list.pop(parents[1])\n",
        "        res_list.insert(parents[1], c[1])\n",
        "\n",
        "replacement()\n",
        "\n",
        "for s in res_list:\n",
        "    print(*s)\n",
        "\n",
        "decimalValue = []"
      ],
      "metadata": {
        "colab": {
          "base_uri": "https://localhost:8080/"
        },
        "id": "N8ezGnB8vcX9",
        "outputId": "8adeada0-dab0-4b16-a2d1-2ad078735c04"
      },
      "execution_count": null,
      "outputs": [
        {
          "output_type": "stream",
          "name": "stdout",
          "text": [
            "parents: [0, 2]\n",
            "OffspringScores: [121, 900]\n",
            "scores: [900, 625, 121, 196, 900]\n",
            "\n",
            "\n",
            "1 1 1 1 0\n",
            "1 1 0 0 1\n",
            "1 1 1 1 0\n",
            "0 1 1 1 0\n",
            "1 1 1 1 0\n"
          ]
        }
      ]
    },
    {
      "cell_type": "code",
      "source": [
        "def fitnessEvaluationOffSpring(binary):\n",
        "    decimal = 0\n",
        "    for digit in binary:\n",
        "        decimal = (decimal << 1) | int(digit)\n",
        "    decimalValue.append(decimal)\n",
        "\n",
        "for i in range(len(res_list)):\n",
        "    fitnessEvaluationOffSpring(res_list[i])\n",
        "print(decimalValue)\n",
        "\n",
        "newScores = evaluate_population(decimalValue)\n",
        "print(newScores)"
      ],
      "metadata": {
        "colab": {
          "base_uri": "https://localhost:8080/"
        },
        "id": "QzwnX1e2OLe7",
        "outputId": "307467d5-ea01-4c2d-bfd6-284ba75ca7a7"
      },
      "execution_count": null,
      "outputs": [
        {
          "output_type": "stream",
          "name": "stdout",
          "text": [
            "[30, 25, 30, 14, 30]\n",
            "[900, 625, 900, 196, 900]\n"
          ]
        }
      ]
    },
    {
      "cell_type": "code",
      "source": [
        "def genetic_algorithm(res_list, population_size, num_generations, mutation_rate):\n",
        "\n",
        "    for generation in range(num_generations):\n",
        "        # Step 2: Evaluation\n",
        "        decimal_population = [int(''.join(map(str, individual)), 2) for individual in res_list]\n",
        "        scores = evaluate_population(decimal_population)\n",
        "\n",
        "        # Step 3: Selection\n",
        "        parents = select_parents(res_list, scores)\n",
        "\n",
        "        # Step 4: Crossover\n",
        "        crossover(res_list, parents)\n",
        "\n",
        "        # Step 5: Mutation\n",
        "        for i in range(len(c)):\n",
        "            c[i] = mutate(c[i], mutation_rate)\n",
        "\n",
        "        decimal_children = [int(''.join(map(str, child)), 2) for child in c]\n",
        "        offspring_scores = evaluate_population(decimal_children)\n",
        "\n",
        "        weakest_index = scores.index(min(scores))\n",
        "        strongest_index = offspring_scores.index(max(offspring_scores))\n",
        "        res_list[weakest_index] = c[strongest_index]\n",
        "\n",
        "    return res_list[0]\n",
        "\n",
        "# Call the genetic_algorithm function\n",
        "best_binary_individual = genetic_algorithm(res_list, population_size, num_generations, mutation_rate)\n",
        "best_decimal_individual = int(''.join(map(str, best_binary_individual)), 2)\n",
        "best_fitness = fitness_function(best_decimal_individual)\n",
        "print(\"Best individual (binary):\", best_binary_individual)\n",
        "print(\"Best individual (decimal):\", best_decimal_individual)\n",
        "print(\"Best fitness:\", best_fitness)\n"
      ],
      "metadata": {
        "colab": {
          "base_uri": "https://localhost:8080/"
        },
        "id": "F2zry9gPOaN0",
        "outputId": "37d9a2fe-e528-467f-b721-9e7d8b664283"
      },
      "execution_count": null,
      "outputs": [
        {
          "output_type": "stream",
          "name": "stdout",
          "text": [
            "[1, 1, 1, 1, 0]\n",
            "[1, 1, 1, 1, 0]\n",
            "[1, 1, 1, 1, 0]\n",
            "[1, 1, 1, 1, 0]\n",
            "[1, 1, 1, 1, 0]\n",
            "[1, 1, 1, 1, 0]\n",
            "[1, 1, 1, 1, 1]\n",
            "[1, 1, 1, 1, 0]\n",
            "[1, 1, 1, 1, 1]\n",
            "[1, 1, 1, 1, 1]\n",
            "[1, 1, 1, 1, 0]\n",
            "[1, 1, 1, 1, 1]\n",
            "[1, 1, 1, 1, 1]\n",
            "[1, 1, 1, 1, 0]\n",
            "[1, 1, 1, 1, 1]\n",
            "[1, 1, 1, 1, 1]\n",
            "[1, 1, 1, 1, 1]\n",
            "[1, 1, 1, 1, 1]\n",
            "[1, 1, 1, 1, 1]\n",
            "[1, 1, 1, 1, 1]\n",
            "[1, 1, 1, 1, 1]\n",
            "[1, 1, 1, 1, 1]\n",
            "[1, 1, 1, 1, 1]\n",
            "[1, 1, 1, 1, 1]\n",
            "[1, 1, 1, 1, 1]\n",
            "[1, 1, 1, 1, 1]\n",
            "[1, 1, 1, 1, 1]\n",
            "[1, 1, 1, 1, 1]\n",
            "[1, 1, 1, 1, 1]\n",
            "[1, 1, 1, 1, 1]\n",
            "[1, 1, 1, 1, 1]\n",
            "[1, 1, 1, 1, 1]\n",
            "[1, 1, 1, 1, 1]\n",
            "[1, 1, 1, 1, 1]\n",
            "[1, 1, 1, 1, 1]\n",
            "[1, 1, 1, 1, 1]\n",
            "[1, 1, 1, 1, 1]\n",
            "[1, 1, 1, 1, 1]\n",
            "[1, 1, 1, 1, 1]\n",
            "[1, 1, 1, 1, 1]\n",
            "[1, 1, 1, 1, 1]\n",
            "[1, 1, 1, 1, 1]\n",
            "[1, 1, 1, 1, 1]\n",
            "[1, 1, 1, 1, 1]\n",
            "[1, 1, 1, 1, 1]\n",
            "[1, 1, 1, 1, 1]\n",
            "[1, 1, 1, 1, 1]\n",
            "[1, 1, 1, 1, 1]\n",
            "[1, 1, 1, 1, 1]\n",
            "[1, 1, 1, 1, 1]\n",
            "[1, 1, 1, 1, 1]\n",
            "[1, 1, 1, 1, 1]\n",
            "[1, 1, 1, 1, 1]\n",
            "[1, 1, 1, 1, 1]\n",
            "[1, 1, 1, 1, 1]\n",
            "[1, 1, 1, 1, 1]\n",
            "[1, 1, 1, 1, 1]\n",
            "[1, 1, 1, 1, 1]\n",
            "[1, 1, 1, 1, 1]\n",
            "[1, 1, 1, 1, 1]\n",
            "[1, 1, 1, 1, 1]\n",
            "[1, 1, 1, 1, 1]\n",
            "[1, 1, 1, 1, 1]\n",
            "[1, 1, 1, 1, 1]\n",
            "[1, 1, 1, 1, 1]\n",
            "[1, 1, 1, 1, 1]\n",
            "[1, 1, 1, 1, 1]\n",
            "[1, 1, 1, 1, 1]\n",
            "[1, 1, 1, 1, 1]\n",
            "[1, 1, 1, 1, 1]\n",
            "[1, 1, 1, 1, 1]\n",
            "[1, 1, 1, 1, 1]\n",
            "[1, 1, 1, 1, 1]\n",
            "[1, 1, 1, 1, 1]\n",
            "[1, 1, 1, 1, 1]\n",
            "[1, 1, 1, 1, 1]\n",
            "[1, 1, 1, 1, 1]\n",
            "[1, 1, 1, 1, 1]\n",
            "[1, 1, 1, 1, 1]\n",
            "[1, 1, 1, 1, 1]\n",
            "[1, 1, 1, 1, 1]\n",
            "[1, 1, 1, 1, 1]\n",
            "[1, 1, 1, 1, 1]\n",
            "[1, 1, 1, 1, 1]\n",
            "[1, 1, 1, 1, 1]\n",
            "[1, 1, 1, 1, 1]\n",
            "[1, 1, 1, 1, 1]\n",
            "[1, 1, 1, 1, 1]\n",
            "[1, 1, 1, 1, 1]\n",
            "[1, 1, 1, 1, 1]\n",
            "[1, 1, 1, 1, 1]\n",
            "[1, 1, 1, 1, 1]\n",
            "[1, 1, 1, 1, 1]\n",
            "[1, 1, 1, 1, 1]\n",
            "[1, 1, 1, 1, 1]\n",
            "[1, 1, 1, 1, 1]\n",
            "[1, 1, 1, 1, 1]\n",
            "[1, 1, 1, 1, 1]\n",
            "[1, 1, 1, 1, 1]\n",
            "[1, 1, 1, 1, 1]\n",
            "[1, 1, 1, 1, 1]\n",
            "[1, 1, 1, 1, 1]\n",
            "[1, 1, 1, 1, 1]\n",
            "[1, 1, 1, 1, 1]\n",
            "[1, 1, 1, 1, 1]\n",
            "[1, 1, 1, 1, 1]\n",
            "[1, 1, 1, 1, 1]\n",
            "[1, 1, 1, 1, 1]\n",
            "[1, 1, 1, 1, 1]\n",
            "[1, 1, 1, 1, 1]\n",
            "[1, 1, 1, 1, 1]\n",
            "[1, 1, 1, 1, 1]\n",
            "[1, 1, 1, 1, 1]\n",
            "[1, 1, 1, 1, 1]\n",
            "[1, 1, 1, 1, 1]\n",
            "[1, 1, 1, 1, 1]\n",
            "[1, 1, 1, 1, 1]\n",
            "[1, 1, 1, 1, 1]\n",
            "[1, 1, 1, 1, 1]\n",
            "[1, 1, 1, 1, 1]\n",
            "[1, 1, 1, 1, 1]\n",
            "[1, 1, 1, 1, 1]\n",
            "[1, 1, 1, 1, 1]\n",
            "[1, 1, 1, 1, 1]\n",
            "[1, 1, 1, 1, 1]\n",
            "[1, 1, 1, 1, 1]\n",
            "[1, 1, 1, 1, 1]\n",
            "[1, 1, 1, 1, 1]\n",
            "[1, 1, 1, 1, 1]\n",
            "[1, 1, 1, 1, 1]\n",
            "[1, 1, 1, 1, 1]\n",
            "[1, 1, 1, 1, 1]\n",
            "[1, 1, 1, 1, 1]\n",
            "[1, 1, 1, 1, 1]\n",
            "[1, 1, 1, 1, 1]\n",
            "[1, 1, 1, 1, 1]\n",
            "[1, 1, 1, 1, 1]\n",
            "[1, 1, 1, 1, 1]\n",
            "[1, 1, 1, 1, 1]\n",
            "[1, 1, 1, 1, 1]\n",
            "[1, 1, 1, 1, 1]\n",
            "[1, 1, 1, 1, 1]\n",
            "[1, 1, 1, 1, 1]\n",
            "[1, 1, 1, 1, 1]\n",
            "[1, 1, 1, 1, 1]\n",
            "[1, 1, 1, 1, 1]\n",
            "[1, 1, 1, 1, 1]\n",
            "[1, 1, 1, 1, 1]\n",
            "[1, 1, 1, 1, 1]\n",
            "[1, 1, 1, 1, 1]\n",
            "[1, 1, 1, 1, 1]\n",
            "[1, 1, 1, 1, 1]\n",
            "[1, 1, 1, 1, 1]\n",
            "[1, 1, 1, 1, 1]\n",
            "[1, 1, 1, 1, 1]\n",
            "[1, 1, 1, 1, 1]\n",
            "[1, 1, 1, 1, 1]\n",
            "[1, 1, 1, 1, 1]\n",
            "[1, 1, 1, 1, 1]\n",
            "[1, 1, 1, 1, 1]\n",
            "[1, 1, 1, 1, 1]\n",
            "[1, 1, 1, 1, 1]\n",
            "[1, 1, 1, 1, 1]\n",
            "[1, 1, 1, 1, 1]\n",
            "[1, 1, 1, 1, 1]\n",
            "[1, 1, 1, 1, 1]\n",
            "[1, 1, 1, 1, 1]\n",
            "[1, 1, 1, 1, 1]\n",
            "[1, 1, 1, 1, 1]\n",
            "[1, 1, 1, 1, 1]\n",
            "[1, 1, 1, 1, 1]\n",
            "[1, 1, 1, 1, 1]\n",
            "[1, 1, 1, 1, 1]\n",
            "[1, 1, 1, 1, 1]\n",
            "[1, 1, 1, 1, 1]\n",
            "[1, 1, 1, 1, 1]\n",
            "[1, 1, 1, 1, 1]\n",
            "[1, 1, 1, 1, 1]\n",
            "[1, 1, 1, 1, 1]\n",
            "[1, 1, 1, 1, 1]\n",
            "[1, 1, 1, 1, 1]\n",
            "[1, 1, 1, 1, 1]\n",
            "[1, 1, 1, 1, 1]\n",
            "[1, 1, 1, 1, 1]\n",
            "[1, 1, 1, 1, 1]\n",
            "[1, 1, 1, 1, 1]\n",
            "[1, 1, 1, 1, 1]\n",
            "[1, 1, 1, 1, 1]\n",
            "[1, 1, 1, 1, 1]\n",
            "[1, 1, 1, 1, 1]\n",
            "[1, 1, 1, 1, 1]\n",
            "[1, 1, 1, 1, 1]\n",
            "[1, 1, 1, 1, 1]\n",
            "[1, 1, 1, 1, 1]\n",
            "[1, 1, 1, 1, 1]\n",
            "[1, 1, 1, 1, 1]\n",
            "[1, 1, 1, 1, 1]\n",
            "[1, 1, 1, 1, 1]\n",
            "[1, 1, 1, 1, 1]\n",
            "[1, 1, 1, 1, 1]\n",
            "Best individual (binary): [1, 1, 1, 1, 1]\n",
            "Best individual (decimal): 31\n",
            "Best fitness: 961\n"
          ]
        }
      ]
    }
  ]
}