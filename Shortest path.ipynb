from collections import deque
N = 1000
visited = [0] * N
adj_list = [[] for _ in range(N)]
parent = [0] * N
weights = [[0] * N for _ in range(N)]
def bfs(root, goal):
q = deque()
visited[root] = 1
q.append((root, 0))
parent[root] = -1
while q:
head, total_distance = q.popleft()
if head == goal:
break
for adj_node in adj_list[head]:
if visited[adj_node] == 0:
visited[adj_node] = 1
parent[adj_node] = head
adj_weight = weights[head][adj_node]
q.append((adj_node, total_distance + adj_weight))
def print_shortest_path(goal):
if parent[goal] == -1:

print("No path exists.")
return
path = []
curr = goal
while curr != -1:
path.append(curr)
curr = parent[curr]
path.reverse()
total_distance = 0
for i in range(1, len(path)):
total_distance += weights[path[i-1]][path[i]]
print("Shortest path from root to goal:", " -> ".join(map(str, path)))
print("Total distance:", total_distance)

if __name__ == "__main__":
node, edges = map(int, input().split()) #input number of Nodes and Edges
for i in range(edges):
u, v, w = map(int, input().split()) #input the connection of one Node to Another
Node and it's distance or weight what we called
adj_list[u].append(v)
adj_list[v].append(u)
weights[u][v] = w
weights[v][u] = w
root, goal = map(int, input().split()) #input the starting Node and goal Node
bfs(root, goal)
print_shortest_path(goal)