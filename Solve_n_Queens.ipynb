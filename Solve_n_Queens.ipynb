def is_safe(board, row, col, n):
    # Check if a queen can be placed at the given row and column
    for i in range(col):
        if board[row][i] == 1:
            return False

    for i, j in zip(range(row, -1, -1), range(col, -1, -1)):
        if board[i][j] == 1:
            return False

    for i, j in zip(range(row, n), range(col, -1, -1)):
        if board[i][j] == 1:
            return False

    return True


def solve_nqueens_util(board, col, n):
    if col >= n:
        return True

    for i in range(n):
        if is_safe(board, i, col, n):
            board[i][col] = 1
            if solve_nqueens_util(board, col + 1, n):
                return True
            board[i][col] = 0

    return False


def solve_nqueens(n):
    board = [[0 for _ in range(n)] for _ in range(n)]

    if not solve_nqueens_util(board, 0, n):
        print("No solution exists.")
        return

    for row in board:
        print(' '.join(['Q' if val == 1 else '*' for val in row]))


n = 4
solve_nqueens(n)


def print_solution(board):
    for row in board:
        print(" ".join("Q" if cell else "*" for cell in row))
    print("\n")

def solve_n_queens():
    n = 4
    board = [[0 for _ in range(n)] for _ in range(n)]

    board[0][0] = 1
    board[1][1] = 1
    board[2][2] = 1
    board[3][3] = 1

    print_solution(board)

solve_n_queens()
