import math
import random
import numpy as np

population_size = 5
population = [random.randrange(31) for _ in range(population_size)]


print(population)

binaryChromosomes = []
def convertBinary(num):
    res = [int(i) for i in list('{0:05b}'.format(num))]
    binaryChromosomes.append(res)
    print("The converted binary list is : " + str(res))


for i in range(len(population)):
    convertBinary(population[i])

def fitness_function(x):
    return x * x

def evaluate_population(population):
    return [fitness_function(individual) for individual in population]

scores = evaluate_population(population)
print(scores)

def select_parents(population, scores):
    population_fitness = sum(scores)
    chromosome_probabilities = [scores[i] / population_fitness for i in range(len(scores))]
    parent_indices = []
    a = sorted(range(len(chromosome_probabilities)), key=lambda i: chromosome_probabilities[i], reverse=True)[:2]
    for i in range(len(a)):
            parent_indices.append(a[i])
    return [parent_indices]

parents = [select_parents(population, scores)]
print(parents)

def crossover(binaryChromosomes):
    point = random.randrange(0, len(binaryChromosomes) - 1)
    child1 = binaryChromosomes[2][:point] + binaryChromosomes[3][point:]
    child2 = binaryChromosomes[3][:point] + binaryChromosomes[2][point:]
    return [child1, child2]

childs = crossover(binaryChromosomes)
print(childs)

import random
def mutate(childs, mutation_rate):
    mutation_point = random.randint(0, 5)
    if childs[mutation_point] == 0:
        childs[mutation_point] = 1
    else:
        childs[mutation_point] = 0
    print("Performed mutation on a chromosome")
    return childs


offspings = mutate([1, 0, 1, 1, 0], 0.001)
print(offspings)

