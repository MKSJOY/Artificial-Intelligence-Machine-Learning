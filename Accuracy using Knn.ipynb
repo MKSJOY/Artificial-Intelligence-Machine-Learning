from sklearn.datasets import load_iris
df = load_iris()

x = df.data
y = df.target

print(y)

print(x)

from sklearn.model_selection import train_test_split

xTrain, xTest, yTrain, yTest = train_test_split(x, y, test_size = 0.30, random_state = 1)

from sklearn.neighbors import KNeighborsClassifier

knn = KNeighborsClassifier(n_neighbors = 7)

knn.fit(xTrain, yTrain)

accuracy = knn.score(xTrain, yTrain)

print(accuracy)

accuracy = knn.score(xTest, yTest)

print(accuracy)

